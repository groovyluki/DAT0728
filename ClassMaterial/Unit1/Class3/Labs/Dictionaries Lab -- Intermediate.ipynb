{
 "cells": [
  {
   "cell_type": "markdown",
   "metadata": {},
   "source": [
    "## Intermediate Lab:  Creating A Dataset Using the GitHub API\n",
    "\n",
    "In this lab you'll create a dataset containing all the meta information about your classmates github repos, using only the csv file with everyone's url.  \n",
    "\n",
    "The process will be done in these 4 general steps:\n",
    "\n",
    " - load in the csv file\n",
    " - clean the individual lines of each file to get them ready to use\n",
    " - connect to the GitHub api to obtain information about everyone's repos\n",
    " - re-structure this information to turn it into a dataframe.\n",
    " \n",
    "It'll be a great way to work through the first step of many data science problems: creating a workable dataset out of unorganized, messy data.  Let's get started!"
   ]
  },
  {
   "cell_type": "code",
   "execution_count": null,
   "metadata": {},
   "outputs": [],
   "source": []
  },
  {
   "cell_type": "markdown",
   "metadata": {},
   "source": [
    "### Step 1:  Load in the csv file with everyone's github repo\n",
    "\n",
    "**Note:** There are a number of ways to do this, but the easiest way is usually this:\n",
    "\n",
    "    `with open('file.csv') as f:\n",
    "\n",
    "        data = f.readlines()`"
   ]
  },
  {
   "cell_type": "code",
   "execution_count": 2,
   "metadata": {},
   "outputs": [],
   "source": [
    "import requests\n",
    "import pandas as pd\n"
   ]
  },
  {
   "cell_type": "code",
   "execution_count": 3,
   "metadata": {},
   "outputs": [
    {
     "name": "stdout",
     "output_type": "stream",
     "text": [
      "/Users/lukielizalde\n"
     ]
    }
   ],
   "source": [
    "cd "
   ]
  },
  {
   "cell_type": "code",
   "execution_count": 4,
   "metadata": {},
   "outputs": [
    {
     "name": "stdout",
     "output_type": "stream",
     "text": [
      "/Users/lukielizalde/Downloads\n"
     ]
    }
   ],
   "source": [
    "cd Downloads"
   ]
  },
  {
   "cell_type": "code",
   "execution_count": 5,
   "metadata": {},
   "outputs": [],
   "source": [
    "with open ('DAT-07-28 Github Repos - Sheet1.csv') as f:\n",
    "    csv_data = f.readlines()"
   ]
  },
  {
   "cell_type": "code",
   "execution_count": 6,
   "metadata": {},
   "outputs": [],
   "source": [
    "new_list=[]\n",
    "\n",
    "for repo in csv_data:\n",
    "    new_list.append(repo.replace('\\n',''))"
   ]
  },
  {
   "cell_type": "markdown",
   "metadata": {},
   "source": [
    "What you should have now is a list, and each item is a string that contains the comma separated values of each cell in the row of that csv file.  \n",
    "\n",
    "It should generically look like this:\n",
    "\n",
    "    `['Name,Repo\\n',\n",
    "      'Person 1,https://github.com/username1\\n',\n",
    "      'Person 2,https://github.com/username2\\n',\n",
    "       ......\n",
    "       ]`\n",
    "\n",
    "Double check this is the case."
   ]
  },
  {
   "cell_type": "code",
   "execution_count": 7,
   "metadata": {},
   "outputs": [
    {
     "data": {
      "text/plain": [
       "['Name,Github Repo\\n',\n",
       " 'Jonathan Bechtel,https://github.com/JonathanBechtel\\n',\n",
       " 'Luki Elizalde,https://github.com/groovyluki\\n',\n",
       " 'iuliana trufas,https://github.com/Yuliana-GitHub\\n',\n",
       " 'Neraj Thangarajah,https://github.com/nthang1\\n',\n",
       " 'Alina Urs,https://github.com/sprintkayaking\\n',\n",
       " 'Ashleigh Grant,https://github.com/AshleighGrant\\n',\n",
       " 'Nick Hudgell ,Https://github.com/nhudgell/GADS\\n',\n",
       " 'Elisa Scagnetto,https://github.com/lisadt/es_repo280720']"
      ]
     },
     "execution_count": 7,
     "metadata": {},
     "output_type": "execute_result"
    }
   ],
   "source": [
    "csv_data"
   ]
  },
  {
   "cell_type": "code",
   "execution_count": 8,
   "metadata": {},
   "outputs": [
    {
     "ename": "SyntaxError",
     "evalue": "invalid syntax (<ipython-input-8-e4e8c699fcb4>, line 1)",
     "output_type": "error",
     "traceback": [
      "\u001b[0;36m  File \u001b[0;32m\"<ipython-input-8-e4e8c699fcb4>\"\u001b[0;36m, line \u001b[0;32m1\u001b[0m\n\u001b[0;31m    new_list = [repo,replace('\\n', '') for repo in csv_data]\u001b[0m\n\u001b[0m                                       ^\u001b[0m\n\u001b[0;31mSyntaxError\u001b[0m\u001b[0;31m:\u001b[0m invalid syntax\n"
     ]
    }
   ],
   "source": [
    "new_list = [repo,replace('\\n', '') for repo in csv_data]"
   ]
  },
  {
   "cell_type": "code",
   "execution_count": 9,
   "metadata": {},
   "outputs": [
    {
     "ename": "AttributeError",
     "evalue": "'list' object has no attribute 'split'",
     "output_type": "error",
     "traceback": [
      "\u001b[0;31m---------------------------------------------------------------------------\u001b[0m",
      "\u001b[0;31mAttributeError\u001b[0m                            Traceback (most recent call last)",
      "\u001b[0;32m<ipython-input-9-425bc1e5b57c>\u001b[0m in \u001b[0;36m<module>\u001b[0;34m\u001b[0m\n\u001b[1;32m      1\u001b[0m \u001b[0;31m#just crop out the username from the string\u001b[0m\u001b[0;34m\u001b[0m\u001b[0;34m\u001b[0m\u001b[0;34m\u001b[0m\u001b[0m\n\u001b[0;32m----> 2\u001b[0;31m \u001b[0mnew_list\u001b[0m\u001b[0;34m[\u001b[0m\u001b[0;36m0\u001b[0m\u001b[0;34m:\u001b[0m\u001b[0;36m5\u001b[0m\u001b[0;34m]\u001b[0m\u001b[0;34m.\u001b[0m\u001b[0msplit\u001b[0m\u001b[0;34m(\u001b[0m\u001b[0;34m'/'\u001b[0m\u001b[0;34m)\u001b[0m\u001b[0;34m[\u001b[0m\u001b[0;34m-\u001b[0m\u001b[0;36m1\u001b[0m\u001b[0;34m]\u001b[0m\u001b[0;34m\u001b[0m\u001b[0;34m\u001b[0m\u001b[0m\n\u001b[0m",
      "\u001b[0;31mAttributeError\u001b[0m: 'list' object has no attribute 'split'"
     ]
    }
   ],
   "source": [
    "#just crop out the username from the string\n",
    "new_list[0:5].split('/')[-1]"
   ]
  },
  {
   "cell_type": "markdown",
   "metadata": {},
   "source": [
    "The only thing we need out of each item is the persons username, that part contained in the string at: `https://github.com/username_here`.  Everything else is junk.  \n",
    "\n",
    "We'll need to go through a few steps to get our info down to a usable format.  "
   ]
  },
  {
   "cell_type": "markdown",
   "metadata": {},
   "source": [
    "### Step 2: Remove the `\\n` from each item in the list, as well as the item that contains the header info.\n",
    "\n",
    "When you're done you should have a list that looks like this:\n",
    "\n",
    "      `[\n",
    "      'Person 1,https://github.com/username1',\n",
    "      'Person 2,https://github.com/username2',\n",
    "       ......\n",
    "       ]`\n",
    "\n",
    "**hint:** The `replace()` method for strings is probably one of the more useful options that you have.  If you want to replace something with nothing, you can simply specify `\"\"` for that part."
   ]
  },
  {
   "cell_type": "code",
   "execution_count": 10,
   "metadata": {},
   "outputs": [
    {
     "ename": "NameError",
     "evalue": "name 'data' is not defined",
     "output_type": "error",
     "traceback": [
      "\u001b[0;31m---------------------------------------------------------------------------\u001b[0m",
      "\u001b[0;31mNameError\u001b[0m                                 Traceback (most recent call last)",
      "\u001b[0;32m<ipython-input-10-e69ce612f459>\u001b[0m in \u001b[0;36m<module>\u001b[0;34m\u001b[0m\n\u001b[0;32m----> 1\u001b[0;31m \u001b[0mclean_data\u001b[0m \u001b[0;34m=\u001b[0m \u001b[0;34m[\u001b[0m\u001b[0mrepo\u001b[0m\u001b[0;34m.\u001b[0m\u001b[0mreplace\u001b[0m\u001b[0;34m(\u001b[0m\u001b[0;34m'\\n'\u001b[0m\u001b[0;34m,\u001b[0m \u001b[0;34m\"\"\u001b[0m\u001b[0;34m)\u001b[0m \u001b[0;32mfor\u001b[0m \u001b[0mrepo\u001b[0m \u001b[0;32min\u001b[0m \u001b[0mdata\u001b[0m\u001b[0;34m[\u001b[0m\u001b[0;36m1\u001b[0m\u001b[0;34m:\u001b[0m\u001b[0;34m]\u001b[0m\u001b[0;34m]\u001b[0m\u001b[0;34m\u001b[0m\u001b[0;34m\u001b[0m\u001b[0m\n\u001b[0m",
      "\u001b[0;31mNameError\u001b[0m: name 'data' is not defined"
     ]
    }
   ],
   "source": [
    "clean_data = [repo.replace('\\n', \"\") for repo in data[1:]]"
   ]
  },
  {
   "cell_type": "code",
   "execution_count": 11,
   "metadata": {},
   "outputs": [],
   "source": [
    "clean_data = []\n",
    "for item in csv_data:\n",
    "    clean_data.append(item.replace('\\n', '') for item in csv_data)"
   ]
  },
  {
   "cell_type": "code",
   "execution_count": 12,
   "metadata": {},
   "outputs": [
    {
     "data": {
      "text/plain": [
       "[<generator object <genexpr> at 0x7f8918458510>,\n",
       " <generator object <genexpr> at 0x7f89184585f0>,\n",
       " <generator object <genexpr> at 0x7f8918458580>,\n",
       " <generator object <genexpr> at 0x7f8918458660>,\n",
       " <generator object <genexpr> at 0x7f89184586d0>,\n",
       " <generator object <genexpr> at 0x7f8918458740>,\n",
       " <generator object <genexpr> at 0x7f89184587b0>,\n",
       " <generator object <genexpr> at 0x7f8918458820>,\n",
       " <generator object <genexpr> at 0x7f8918458890>]"
      ]
     },
     "execution_count": 12,
     "metadata": {},
     "output_type": "execute_result"
    }
   ],
   "source": [
    "clean_data"
   ]
  },
  {
   "cell_type": "markdown",
   "metadata": {},
   "source": [
    "### Step 3:  Separate the url in each string from everything else\n",
    "\n",
    "When you're done you should have a new list that looks like this:\n",
    "\n",
    "    `[\n",
    "       'https://github.com/username1',\n",
    "       'https://github.com/username2',\n",
    "       ...\n",
    "     ]`\n",
    "     \n",
    "**hint:** The `split()` method will help you out here."
   ]
  },
  {
   "cell_type": "code",
   "execution_count": 13,
   "metadata": {},
   "outputs": [
    {
     "ename": "AttributeError",
     "evalue": "'generator' object has no attribute 'split'",
     "output_type": "error",
     "traceback": [
      "\u001b[0;31m---------------------------------------------------------------------------\u001b[0m",
      "\u001b[0;31mAttributeError\u001b[0m                            Traceback (most recent call last)",
      "\u001b[0;32m<ipython-input-13-4b95ac2e3daa>\u001b[0m in \u001b[0;36m<module>\u001b[0;34m\u001b[0m\n\u001b[0;32m----> 1\u001b[0;31m \u001b[0mrepo_url\u001b[0m \u001b[0;34m=\u001b[0m \u001b[0;34m[\u001b[0m\u001b[0mline\u001b[0m\u001b[0;34m.\u001b[0m\u001b[0msplit\u001b[0m\u001b[0;34m(\u001b[0m\u001b[0;34m','\u001b[0m\u001b[0;34m)\u001b[0m\u001b[0;34m[\u001b[0m\u001b[0;36m1\u001b[0m\u001b[0;34m]\u001b[0m \u001b[0;32mfor\u001b[0m \u001b[0mline\u001b[0m \u001b[0;32min\u001b[0m \u001b[0mclean_data\u001b[0m\u001b[0;34m]\u001b[0m\u001b[0;34m\u001b[0m\u001b[0;34m\u001b[0m\u001b[0m\n\u001b[0m",
      "\u001b[0;32m<ipython-input-13-4b95ac2e3daa>\u001b[0m in \u001b[0;36m<listcomp>\u001b[0;34m(.0)\u001b[0m\n\u001b[0;32m----> 1\u001b[0;31m \u001b[0mrepo_url\u001b[0m \u001b[0;34m=\u001b[0m \u001b[0;34m[\u001b[0m\u001b[0mline\u001b[0m\u001b[0;34m.\u001b[0m\u001b[0msplit\u001b[0m\u001b[0;34m(\u001b[0m\u001b[0;34m','\u001b[0m\u001b[0;34m)\u001b[0m\u001b[0;34m[\u001b[0m\u001b[0;36m1\u001b[0m\u001b[0;34m]\u001b[0m \u001b[0;32mfor\u001b[0m \u001b[0mline\u001b[0m \u001b[0;32min\u001b[0m \u001b[0mclean_data\u001b[0m\u001b[0;34m]\u001b[0m\u001b[0;34m\u001b[0m\u001b[0;34m\u001b[0m\u001b[0m\n\u001b[0m",
      "\u001b[0;31mAttributeError\u001b[0m: 'generator' object has no attribute 'split'"
     ]
    }
   ],
   "source": [
    "repo_url = [line.split(',')[1] for line in clean_data]"
   ]
  },
  {
   "cell_type": "code",
   "execution_count": 14,
   "metadata": {},
   "outputs": [
    {
     "ename": "NameError",
     "evalue": "name 'repo_url' is not defined",
     "output_type": "error",
     "traceback": [
      "\u001b[0;31m---------------------------------------------------------------------------\u001b[0m",
      "\u001b[0;31mNameError\u001b[0m                                 Traceback (most recent call last)",
      "\u001b[0;32m<ipython-input-14-cac0cbd89ddf>\u001b[0m in \u001b[0;36m<module>\u001b[0;34m\u001b[0m\n\u001b[0;32m----> 1\u001b[0;31m \u001b[0mrepo_url\u001b[0m\u001b[0;34m\u001b[0m\u001b[0;34m\u001b[0m\u001b[0m\n\u001b[0m",
      "\u001b[0;31mNameError\u001b[0m: name 'repo_url' is not defined"
     ]
    }
   ],
   "source": [
    "repo_url"
   ]
  },
  {
   "cell_type": "markdown",
   "metadata": {},
   "source": [
    "### Step 4:  Separate the username in each string from everything else\n",
    "\n",
    "When you're done you should have a new list that looks like this:\n",
    "\n",
    "    `[\n",
    "       'username1',\n",
    "       'username2',\n",
    "       ...\n",
    "     ]`"
   ]
  },
  {
   "cell_type": "code",
   "execution_count": 15,
   "metadata": {},
   "outputs": [
    {
     "ename": "NameError",
     "evalue": "name 'repo_url' is not defined",
     "output_type": "error",
     "traceback": [
      "\u001b[0;31m---------------------------------------------------------------------------\u001b[0m",
      "\u001b[0;31mNameError\u001b[0m                                 Traceback (most recent call last)",
      "\u001b[0;32m<ipython-input-15-53ff5de0d250>\u001b[0m in \u001b[0;36m<module>\u001b[0;34m\u001b[0m\n\u001b[0;32m----> 1\u001b[0;31m \u001b[0musername\u001b[0m \u001b[0;34m=\u001b[0m \u001b[0;34m[\u001b[0m\u001b[0murl\u001b[0m\u001b[0;34m.\u001b[0m\u001b[0msplit\u001b[0m\u001b[0;34m(\u001b[0m\u001b[0;34m'/'\u001b[0m\u001b[0;34m)\u001b[0m\u001b[0;34m[\u001b[0m\u001b[0;34m-\u001b[0m\u001b[0;36m1\u001b[0m\u001b[0;34m]\u001b[0m \u001b[0;32mfor\u001b[0m \u001b[0murl\u001b[0m \u001b[0;32min\u001b[0m \u001b[0mrepo_url\u001b[0m\u001b[0;34m]\u001b[0m\u001b[0;34m\u001b[0m\u001b[0;34m\u001b[0m\u001b[0m\n\u001b[0m",
      "\u001b[0;31mNameError\u001b[0m: name 'repo_url' is not defined"
     ]
    }
   ],
   "source": [
    "username = [url.split('/')[-1] for url in repo_url]"
   ]
  },
  {
   "cell_type": "code",
   "execution_count": 16,
   "metadata": {},
   "outputs": [
    {
     "ename": "NameError",
     "evalue": "name 'username' is not defined",
     "output_type": "error",
     "traceback": [
      "\u001b[0;31m---------------------------------------------------------------------------\u001b[0m",
      "\u001b[0;31mNameError\u001b[0m                                 Traceback (most recent call last)",
      "\u001b[0;32m<ipython-input-16-407fefd38331>\u001b[0m in \u001b[0;36m<module>\u001b[0;34m\u001b[0m\n\u001b[0;32m----> 1\u001b[0;31m \u001b[0musername\u001b[0m\u001b[0;34m\u001b[0m\u001b[0;34m\u001b[0m\u001b[0m\n\u001b[0m",
      "\u001b[0;31mNameError\u001b[0m: name 'username' is not defined"
     ]
    }
   ],
   "source": [
    "username"
   ]
  },
  {
   "cell_type": "code",
   "execution_count": 17,
   "metadata": {},
   "outputs": [
    {
     "ename": "NameError",
     "evalue": "name 'username' is not defined",
     "output_type": "error",
     "traceback": [
      "\u001b[0;31m---------------------------------------------------------------------------\u001b[0m",
      "\u001b[0;31mNameError\u001b[0m                                 Traceback (most recent call last)",
      "\u001b[0;32m<ipython-input-17-190a5c305cfc>\u001b[0m in \u001b[0;36m<module>\u001b[0;34m\u001b[0m\n\u001b[0;32m----> 1\u001b[0;31m \u001b[0musername2\u001b[0m \u001b[0;34m=\u001b[0m \u001b[0;34m[\u001b[0m\u001b[0mrequests\u001b[0m\u001b[0;34m.\u001b[0m\u001b[0mget\u001b[0m\u001b[0;34m(\u001b[0m\u001b[0;34mf'https://api.github.com/users/{user}/repos'\u001b[0m\u001b[0;34m)\u001b[0m\u001b[0;34m.\u001b[0m\u001b[0mjson\u001b[0m\u001b[0;34m(\u001b[0m\u001b[0;34m)\u001b[0m \u001b[0;32mfor\u001b[0m \u001b[0muser\u001b[0m \u001b[0;32min\u001b[0m \u001b[0musername\u001b[0m\u001b[0;34m[\u001b[0m\u001b[0;36m1\u001b[0m\u001b[0;34m:\u001b[0m\u001b[0;34m]\u001b[0m\u001b[0;34m]\u001b[0m\u001b[0;34m\u001b[0m\u001b[0;34m\u001b[0m\u001b[0m\n\u001b[0m",
      "\u001b[0;31mNameError\u001b[0m: name 'username' is not defined"
     ]
    }
   ],
   "source": [
    "username2 = [requests.get(f'https://api.github.com/users/{user}/repos').json() for user in username[1:]]"
   ]
  },
  {
   "cell_type": "code",
   "execution_count": 18,
   "metadata": {},
   "outputs": [
    {
     "data": {
      "text/plain": [
       "[[{}, {}], [[{}, {}]], [{}]]"
      ]
     },
     "execution_count": 18,
     "metadata": {},
     "output_type": "execute_result"
    }
   ],
   "source": [
    "# all the stuff from the individual repos\n",
    "[[{},{}], [[{},{}]], [{}]]"
   ]
  },
  {
   "cell_type": "code",
   "execution_count": 19,
   "metadata": {},
   "outputs": [
    {
     "ename": "NameError",
     "evalue": "name 'username2' is not defined",
     "output_type": "error",
     "traceback": [
      "\u001b[0;31m---------------------------------------------------------------------------\u001b[0m",
      "\u001b[0;31mNameError\u001b[0m                                 Traceback (most recent call last)",
      "\u001b[0;32m<ipython-input-19-e09b34a1ab8a>\u001b[0m in \u001b[0;36m<module>\u001b[0;34m\u001b[0m\n\u001b[0;32m----> 1\u001b[0;31m \u001b[0musername2\u001b[0m\u001b[0;34m\u001b[0m\u001b[0;34m\u001b[0m\u001b[0m\n\u001b[0m",
      "\u001b[0;31mNameError\u001b[0m: name 'username2' is not defined"
     ]
    }
   ],
   "source": [
    "username2"
   ]
  },
  {
   "cell_type": "code",
   "execution_count": 20,
   "metadata": {},
   "outputs": [
    {
     "ename": "NameError",
     "evalue": "name 'username' is not defined",
     "output_type": "error",
     "traceback": [
      "\u001b[0;31m---------------------------------------------------------------------------\u001b[0m",
      "\u001b[0;31mNameError\u001b[0m                                 Traceback (most recent call last)",
      "\u001b[0;32m<ipython-input-20-208c341b8bba>\u001b[0m in \u001b[0;36m<module>\u001b[0;34m\u001b[0m\n\u001b[1;32m      1\u001b[0m \u001b[0muser_repos\u001b[0m \u001b[0;34m=\u001b[0m \u001b[0;34m[\u001b[0m\u001b[0;34m]\u001b[0m\u001b[0;34m\u001b[0m\u001b[0;34m\u001b[0m\u001b[0m\n\u001b[1;32m      2\u001b[0m \u001b[0;34m\u001b[0m\u001b[0m\n\u001b[0;32m----> 3\u001b[0;31m \u001b[0;32mfor\u001b[0m \u001b[0muser\u001b[0m \u001b[0;32min\u001b[0m \u001b[0musername\u001b[0m\u001b[0;34m:\u001b[0m\u001b[0;34m\u001b[0m\u001b[0;34m\u001b[0m\u001b[0m\n\u001b[0m\u001b[1;32m      4\u001b[0m     \u001b[0;32mfor\u001b[0m \u001b[0mrepo\u001b[0m \u001b[0;32min\u001b[0m \u001b[0muser\u001b[0m\u001b[0;34m:\u001b[0m\u001b[0;34m\u001b[0m\u001b[0;34m\u001b[0m\u001b[0m\n\u001b[1;32m      5\u001b[0m         \u001b[0muser_repos\u001b[0m\u001b[0;34m.\u001b[0m\u001b[0mappend\u001b[0m\u001b[0;34m(\u001b[0m\u001b[0mrepo\u001b[0m\u001b[0;34m)\u001b[0m\u001b[0;34m\u001b[0m\u001b[0;34m\u001b[0m\u001b[0m\n",
      "\u001b[0;31mNameError\u001b[0m: name 'username' is not defined"
     ]
    }
   ],
   "source": [
    "user_repos = []\n",
    "\n",
    "for user in username:\n",
    "    for repo in user:\n",
    "        user_repos.append(repo)"
   ]
  },
  {
   "cell_type": "code",
   "execution_count": 21,
   "metadata": {},
   "outputs": [
    {
     "ename": "IndexError",
     "evalue": "list index out of range",
     "output_type": "error",
     "traceback": [
      "\u001b[0;31m---------------------------------------------------------------------------\u001b[0m",
      "\u001b[0;31mIndexError\u001b[0m                                Traceback (most recent call last)",
      "\u001b[0;32m<ipython-input-21-bec49f3b677a>\u001b[0m in \u001b[0;36m<module>\u001b[0;34m\u001b[0m\n\u001b[0;32m----> 1\u001b[0;31m \u001b[0muser_repos\u001b[0m\u001b[0;34m[\u001b[0m\u001b[0;36m0\u001b[0m\u001b[0;34m]\u001b[0m\u001b[0;34m\u001b[0m\u001b[0;34m\u001b[0m\u001b[0m\n\u001b[0m",
      "\u001b[0;31mIndexError\u001b[0m: list index out of range"
     ]
    }
   ],
   "source": [
    "user_repos[0]"
   ]
  },
  {
   "cell_type": "markdown",
   "metadata": {},
   "source": [
    "### Step 5: Obtain the repo data for every single github username\n",
    "\n",
    "The repository info for every single public account is available via the following url: `https://api.github.com/users/:the_username/repos`\n",
    "\n",
    "So basically, `requests.get('https://api.github.com/users/:the_username/repos').json()` will return a list filled with every single repo that user has.  \n",
    "\n",
    "When you're done, you should have a *list of lists*, with each list containing each users individual repos.  It'll look like this:\n",
    "\n",
    "`[[{user1, repo1}, {user1, repo2}], [{user2, repo1}], [{user3, repo1}, {user3, repo2}, {user3, rep3}], .....]`\n",
    "\n",
    "**Warning:** We're using the free, unauthenticated version of the API here.  That means we can only make 60 API calls per hour before getting throttled.  If we've used up our bandwidth the response you'll get is a dictionary telling you we've exceeded our rate limit or something similar.\n",
    "\n",
    "If that's the case, try using your phone (or your neighbors) as a hotspot and connect from there to get a new IP address."
   ]
  },
  {
   "cell_type": "code",
   "execution_count": 22,
   "metadata": {},
   "outputs": [
    {
     "ename": "NameError",
     "evalue": "name 'usernames' is not defined",
     "output_type": "error",
     "traceback": [
      "\u001b[0;31m---------------------------------------------------------------------------\u001b[0m",
      "\u001b[0;31mNameError\u001b[0m                                 Traceback (most recent call last)",
      "\u001b[0;32m<ipython-input-22-92fc086022ea>\u001b[0m in \u001b[0;36m<module>\u001b[0;34m\u001b[0m\n\u001b[1;32m      1\u001b[0m \u001b[0mgithubusers_url\u001b[0m \u001b[0;34m=\u001b[0m \u001b[0;34m'https://api.github.com'\u001b[0m\u001b[0;34m\u001b[0m\u001b[0;34m\u001b[0m\u001b[0m\n\u001b[0;32m----> 2\u001b[0;31m \u001b[0mrepo_lists\u001b[0m \u001b[0;34m=\u001b[0m \u001b[0;34m[\u001b[0m\u001b[0mrequests\u001b[0m\u001b[0;34m.\u001b[0m\u001b[0mget\u001b[0m\u001b[0;34m(\u001b[0m\u001b[0;34mf\"{githubusers_url}/users/{username}/repos\"\u001b[0m\u001b[0;34m)\u001b[0m\u001b[0;34m.\u001b[0m\u001b[0mjson\u001b[0m\u001b[0;34m(\u001b[0m\u001b[0;34m)\u001b[0m \u001b[0;32mfor\u001b[0m \u001b[0musername\u001b[0m \u001b[0;32min\u001b[0m \u001b[0musernames\u001b[0m\u001b[0;34m]\u001b[0m\u001b[0;34m\u001b[0m\u001b[0;34m\u001b[0m\u001b[0m\n\u001b[0m",
      "\u001b[0;31mNameError\u001b[0m: name 'usernames' is not defined"
     ]
    }
   ],
   "source": [
    "githubusers_url = 'https://api.github.com'\n",
    "repo_lists = [requests.get(f\"{githubusers_url}/users/{username}/repos\").json() for username in usernames]"
   ]
  },
  {
   "cell_type": "code",
   "execution_count": 23,
   "metadata": {},
   "outputs": [
    {
     "ename": "NameError",
     "evalue": "name 'usernames' is not defined",
     "output_type": "error",
     "traceback": [
      "\u001b[0;31m---------------------------------------------------------------------------\u001b[0m",
      "\u001b[0;31mNameError\u001b[0m                                 Traceback (most recent call last)",
      "\u001b[0;32m<ipython-input-23-4ee8cf5629d1>\u001b[0m in \u001b[0;36m<module>\u001b[0;34m\u001b[0m\n\u001b[0;32m----> 1\u001b[0;31m \u001b[0musernames\u001b[0m\u001b[0;34m\u001b[0m\u001b[0;34m\u001b[0m\u001b[0m\n\u001b[0m",
      "\u001b[0;31mNameError\u001b[0m: name 'usernames' is not defined"
     ]
    }
   ],
   "source": [
    "usernames"
   ]
  },
  {
   "cell_type": "code",
   "execution_count": 24,
   "metadata": {},
   "outputs": [
    {
     "ename": "NameError",
     "evalue": "name 'repo_lists' is not defined",
     "output_type": "error",
     "traceback": [
      "\u001b[0;31m---------------------------------------------------------------------------\u001b[0m",
      "\u001b[0;31mNameError\u001b[0m                                 Traceback (most recent call last)",
      "\u001b[0;32m<ipython-input-24-56c28d515151>\u001b[0m in \u001b[0;36m<module>\u001b[0;34m\u001b[0m\n\u001b[0;32m----> 1\u001b[0;31m \u001b[0mrepo_lists\u001b[0m\u001b[0;34m\u001b[0m\u001b[0;34m\u001b[0m\u001b[0m\n\u001b[0m",
      "\u001b[0;31mNameError\u001b[0m: name 'repo_lists' is not defined"
     ]
    }
   ],
   "source": [
    "repo_lists"
   ]
  },
  {
   "cell_type": "code",
   "execution_count": null,
   "metadata": {},
   "outputs": [],
   "source": []
  },
  {
   "cell_type": "markdown",
   "metadata": {},
   "source": [
    "### Step 6: Create a 'flat' list that contains every unique repo for every single user\n",
    "\n",
    "When you're done you should have a list that looks like this: `[{user1 repo1}, {user1 repo2}, ....{user n, repo m}]`\n",
    "\n",
    "Ie, instead of having a list filled with other lists with dictionaries inside of them, make it a list with just dictionaries on the inside.\n",
    "\n",
    "Ie, no nested levels like you had before.\n",
    "\n",
    "So, go from this:\n",
    "\n",
    "`[[{user1, repo1}, {user1, repo2}, {user1, repo3}], [{user2, repo1}, {user2, repo2}]]`\n",
    "    \n",
    "To this:\n",
    "\n",
    "`[{user1, repo1}, {user1, repo2}, {user1, repo3}, {user2, repo1}, {user2, repo2}]`\n",
    "    \n",
    "If you have questions about what this entails, then please contact me ASAP."
   ]
  },
  {
   "cell_type": "code",
   "execution_count": 25,
   "metadata": {},
   "outputs": [
    {
     "ename": "NameError",
     "evalue": "name 'repo_lists' is not defined",
     "output_type": "error",
     "traceback": [
      "\u001b[0;31m---------------------------------------------------------------------------\u001b[0m",
      "\u001b[0;31mNameError\u001b[0m                                 Traceback (most recent call last)",
      "\u001b[0;32m<ipython-input-25-51d3559a5e7a>\u001b[0m in \u001b[0;36m<module>\u001b[0;34m\u001b[0m\n\u001b[1;32m      1\u001b[0m \u001b[0mrepos\u001b[0m \u001b[0;34m=\u001b[0m \u001b[0;34m[\u001b[0m\u001b[0;34m]\u001b[0m\u001b[0;34m\u001b[0m\u001b[0;34m\u001b[0m\u001b[0m\n\u001b[1;32m      2\u001b[0m \u001b[0;34m\u001b[0m\u001b[0m\n\u001b[0;32m----> 3\u001b[0;31m \u001b[0;32mfor\u001b[0m \u001b[0muser\u001b[0m \u001b[0;32min\u001b[0m \u001b[0mrepo_lists\u001b[0m\u001b[0;34m:\u001b[0m\u001b[0;34m\u001b[0m\u001b[0;34m\u001b[0m\u001b[0m\n\u001b[0m\u001b[1;32m      4\u001b[0m     \u001b[0;32mfor\u001b[0m \u001b[0mrepo\u001b[0m \u001b[0;32min\u001b[0m \u001b[0muser\u001b[0m\u001b[0;34m:\u001b[0m\u001b[0;34m\u001b[0m\u001b[0;34m\u001b[0m\u001b[0m\n\u001b[1;32m      5\u001b[0m         \u001b[0mrepos\u001b[0m\u001b[0;34m.\u001b[0m\u001b[0mappend\u001b[0m\u001b[0;34m(\u001b[0m\u001b[0mrepo\u001b[0m\u001b[0;34m)\u001b[0m\u001b[0;34m\u001b[0m\u001b[0;34m\u001b[0m\u001b[0m\n",
      "\u001b[0;31mNameError\u001b[0m: name 'repo_lists' is not defined"
     ]
    }
   ],
   "source": [
    "repos = []\n",
    "\n",
    "for user in repo_lists:\n",
    "    for repo in user:\n",
    "        repos.append(repo)\n"
   ]
  },
  {
   "cell_type": "code",
   "execution_count": 26,
   "metadata": {},
   "outputs": [
    {
     "data": {
      "text/plain": [
       "[]"
      ]
     },
     "execution_count": 26,
     "metadata": {},
     "output_type": "execute_result"
    }
   ],
   "source": [
    "repos"
   ]
  },
  {
   "cell_type": "code",
   "execution_count": null,
   "metadata": {},
   "outputs": [],
   "source": []
  },
  {
   "cell_type": "markdown",
   "metadata": {},
   "source": [
    "### Step 7:  Get information about the name, owner, url, and date of every single repo.\n",
    "\n",
    "In the dictionary for each repo there are keys called `name`, `login`, `html_url`, and `created_at`.  These are going to populate the values for our different columns.\n",
    "\n",
    "Values for each one of these keys will need to exist inside their own lists.\n",
    "\n",
    "**hint:** Notice that the `login` key is nested inside a dictionary that's the value to the `owner` key at the outer level."
   ]
  },
  {
   "cell_type": "code",
   "execution_count": 27,
   "metadata": {},
   "outputs": [],
   "source": [
    "repo_name = [repo['name'] for repo in repos if type(repo) == dict]\n",
    "user = [repo['owner']['login'] for repo in repos if type(repo) == dict]\n",
    "url = [repo['html_url'] for repo in repos if type(repo) == dict]\n",
    "date = [repo['created_at'] for repo in repos if type(repo) == dict]\n"
   ]
  },
  {
   "cell_type": "code",
   "execution_count": null,
   "metadata": {},
   "outputs": [],
   "source": []
  },
  {
   "cell_type": "markdown",
   "metadata": {},
   "source": [
    "### Step 8:  Create a dictionary with the data created from step 7\n",
    "\n",
    "Your final output should look like this:\n",
    "\n",
    "    `{\n",
    "       'Owner': [list with the `login` values for each user],\n",
    "       'Name' : [list with the `name` values for each user],\n",
    "       'URL'  : [list with the `html_url` values for each user],\n",
    "       'Date' : [list with the `created_at` values for each user]\n",
    "     }`"
   ]
  },
  {
   "cell_type": "code",
   "execution_count": 65,
   "metadata": {},
   "outputs": [],
   "source": [
    "data_dict = {\n",
    "    'Owner': user,\n",
    "    'Name': repo_name,\n",
    "    'URL': url,\n",
    "    'Date': date\n",
    "}"
   ]
  },
  {
   "cell_type": "code",
   "execution_count": 66,
   "metadata": {},
   "outputs": [
    {
     "data": {
      "text/plain": [
       "{'Owner': ['JonathanBechtel',\n",
       "  'JonathanBechtel',\n",
       "  'JonathanBechtel',\n",
       "  'JonathanBechtel',\n",
       "  'JonathanBechtel',\n",
       "  'JonathanBechtel',\n",
       "  'JonathanBechtel',\n",
       "  'JonathanBechtel',\n",
       "  'JonathanBechtel',\n",
       "  'JonathanBechtel',\n",
       "  'JonathanBechtel',\n",
       "  'JonathanBechtel',\n",
       "  'JonathanBechtel',\n",
       "  'JonathanBechtel',\n",
       "  'JonathanBechtel',\n",
       "  'JonathanBechtel',\n",
       "  'JonathanBechtel',\n",
       "  'JonathanBechtel',\n",
       "  'JonathanBechtel',\n",
       "  'JonathanBechtel',\n",
       "  'JonathanBechtel',\n",
       "  'JonathanBechtel',\n",
       "  'JonathanBechtel',\n",
       "  'JonathanBechtel',\n",
       "  'JonathanBechtel',\n",
       "  'JonathanBechtel',\n",
       "  'JonathanBechtel',\n",
       "  'JonathanBechtel',\n",
       "  'JonathanBechtel',\n",
       "  'JonathanBechtel',\n",
       "  'groovyluki',\n",
       "  'groovyluki',\n",
       "  'Yuliana-GitHub',\n",
       "  'Yuliana-GitHub',\n",
       "  'nthang1',\n",
       "  'sprintkayaking',\n",
       "  'sprintkayaking',\n",
       "  'sprintkayaking',\n",
       "  'AshleighGrant',\n",
       "  'AshleighGrant'],\n",
       " 'Name': ['bitcoin',\n",
       "  'cdc-dashboard',\n",
       "  'covid-19',\n",
       "  'DAT-01-21',\n",
       "  'DAT-06-24',\n",
       "  'DAT-07-28',\n",
       "  'DAT-10-14',\n",
       "  'data',\n",
       "  'Data-Analysis',\n",
       "  'easyml',\n",
       "  'formula-app',\n",
       "  'formula-calculator',\n",
       "  'formula-generator',\n",
       "  'google-quest',\n",
       "  'Kaggle',\n",
       "  'ltcv',\n",
       "  'ml-app',\n",
       "  'ML-From-Scratch',\n",
       "  'ml-web-app',\n",
       "  'My-DAT-repo',\n",
       "  'my-repo',\n",
       "  'other-repo',\n",
       "  'pandas',\n",
       "  'practical-time-series-analysis',\n",
       "  'sample-repo',\n",
       "  'sample-repo2',\n",
       "  'stochastic-processes',\n",
       "  'superfood-picker',\n",
       "  'total-gross',\n",
       "  'website',\n",
       "  'awesome-project',\n",
       "  'DAT0728',\n",
       "  'DAT-07-28-iuliana',\n",
       "  'github-slideshow',\n",
       "  'GA-WK-1',\n",
       "  'GA-one',\n",
       "  'GA-project',\n",
       "  'GA-test',\n",
       "  'DAT-07-28',\n",
       "  'DAT07-28-AG'],\n",
       " 'URL': ['https://github.com/JonathanBechtel/bitcoin',\n",
       "  'https://github.com/JonathanBechtel/cdc-dashboard',\n",
       "  'https://github.com/JonathanBechtel/covid-19',\n",
       "  'https://github.com/JonathanBechtel/DAT-01-21',\n",
       "  'https://github.com/JonathanBechtel/DAT-06-24',\n",
       "  'https://github.com/JonathanBechtel/DAT-07-28',\n",
       "  'https://github.com/JonathanBechtel/DAT-10-14',\n",
       "  'https://github.com/JonathanBechtel/data',\n",
       "  'https://github.com/JonathanBechtel/Data-Analysis',\n",
       "  'https://github.com/JonathanBechtel/easyml',\n",
       "  'https://github.com/JonathanBechtel/formula-app',\n",
       "  'https://github.com/JonathanBechtel/formula-calculator',\n",
       "  'https://github.com/JonathanBechtel/formula-generator',\n",
       "  'https://github.com/JonathanBechtel/google-quest',\n",
       "  'https://github.com/JonathanBechtel/Kaggle',\n",
       "  'https://github.com/JonathanBechtel/ltcv',\n",
       "  'https://github.com/JonathanBechtel/ml-app',\n",
       "  'https://github.com/JonathanBechtel/ML-From-Scratch',\n",
       "  'https://github.com/JonathanBechtel/ml-web-app',\n",
       "  'https://github.com/JonathanBechtel/My-DAT-repo',\n",
       "  'https://github.com/JonathanBechtel/my-repo',\n",
       "  'https://github.com/JonathanBechtel/other-repo',\n",
       "  'https://github.com/JonathanBechtel/pandas',\n",
       "  'https://github.com/JonathanBechtel/practical-time-series-analysis',\n",
       "  'https://github.com/JonathanBechtel/sample-repo',\n",
       "  'https://github.com/JonathanBechtel/sample-repo2',\n",
       "  'https://github.com/JonathanBechtel/stochastic-processes',\n",
       "  'https://github.com/JonathanBechtel/superfood-picker',\n",
       "  'https://github.com/JonathanBechtel/total-gross',\n",
       "  'https://github.com/JonathanBechtel/website',\n",
       "  'https://github.com/groovyluki/awesome-project',\n",
       "  'https://github.com/groovyluki/DAT0728',\n",
       "  'https://github.com/Yuliana-GitHub/DAT-07-28-iuliana',\n",
       "  'https://github.com/Yuliana-GitHub/github-slideshow',\n",
       "  'https://github.com/nthang1/GA-WK-1',\n",
       "  'https://github.com/sprintkayaking/GA-one',\n",
       "  'https://github.com/sprintkayaking/GA-project',\n",
       "  'https://github.com/sprintkayaking/GA-test',\n",
       "  'https://github.com/AshleighGrant/DAT-07-28',\n",
       "  'https://github.com/AshleighGrant/DAT07-28-AG'],\n",
       " 'Date': ['2020-05-02T19:57:48Z',\n",
       "  '2016-11-02T14:39:37Z',\n",
       "  '2020-05-01T14:46:48Z',\n",
       "  '2020-01-21T12:57:43Z',\n",
       "  '2019-06-26T15:12:49Z',\n",
       "  '2020-07-28T03:06:15Z',\n",
       "  '2019-10-14T16:13:47Z',\n",
       "  '2019-01-14T22:09:06Z',\n",
       "  '2016-09-01T16:55:29Z',\n",
       "  '2019-05-14T11:48:59Z',\n",
       "  '2016-12-30T00:10:24Z',\n",
       "  '2015-01-21T04:07:02Z',\n",
       "  '2016-12-22T23:40:54Z',\n",
       "  '2019-11-29T20:12:51Z',\n",
       "  '2019-03-31T02:36:48Z',\n",
       "  '2017-03-30T20:03:14Z',\n",
       "  '2019-06-06T06:41:54Z',\n",
       "  '2019-11-05T23:56:33Z',\n",
       "  '2019-06-06T06:33:28Z',\n",
       "  '2019-06-26T23:50:04Z',\n",
       "  '2019-06-27T00:03:23Z',\n",
       "  '2020-07-28T19:11:40Z',\n",
       "  '2020-05-02T19:55:10Z',\n",
       "  '2019-06-29T23:40:04Z',\n",
       "  '2019-10-15T00:31:57Z',\n",
       "  '2020-01-22T00:58:08Z',\n",
       "  '2019-12-19T14:14:00Z',\n",
       "  '2015-07-15T12:20:22Z',\n",
       "  '2017-10-17T04:01:46Z',\n",
       "  '2016-10-15T22:36:22Z',\n",
       "  '2020-07-22T12:45:12Z',\n",
       "  '2020-07-28T19:11:38Z',\n",
       "  '2020-07-31T11:18:35Z',\n",
       "  '2020-06-02T06:18:24Z',\n",
       "  '2020-07-28T19:20:31Z',\n",
       "  '2020-07-28T19:11:39Z',\n",
       "  '2020-07-26T20:03:49Z',\n",
       "  '2020-07-26T20:42:11Z',\n",
       "  '2020-07-28T19:10:55Z',\n",
       "  '2020-07-28T19:12:16Z']}"
      ]
     },
     "execution_count": 66,
     "metadata": {},
     "output_type": "execute_result"
    }
   ],
   "source": [
    "data_dict"
   ]
  },
  {
   "cell_type": "markdown",
   "metadata": {},
   "source": [
    "### Step 9:  Pass your dictionary into the `pd.dataframe()` method to get your final dataset  \n",
    "\n",
    "Use the `df.head()` method to confirm that you have something that's formatted appropriately."
   ]
  },
  {
   "cell_type": "code",
   "execution_count": 67,
   "metadata": {},
   "outputs": [],
   "source": [
    "import pandas as pd\n",
    "\n",
    "# this will take your dictionary and turn it into a dataframe\n",
    "df = pd.DataFrame(data_dict)"
   ]
  },
  {
   "cell_type": "code",
   "execution_count": 68,
   "metadata": {},
   "outputs": [
    {
     "data": {
      "text/html": [
       "<div>\n",
       "<style scoped>\n",
       "    .dataframe tbody tr th:only-of-type {\n",
       "        vertical-align: middle;\n",
       "    }\n",
       "\n",
       "    .dataframe tbody tr th {\n",
       "        vertical-align: top;\n",
       "    }\n",
       "\n",
       "    .dataframe thead th {\n",
       "        text-align: right;\n",
       "    }\n",
       "</style>\n",
       "<table border=\"1\" class=\"dataframe\">\n",
       "  <thead>\n",
       "    <tr style=\"text-align: right;\">\n",
       "      <th></th>\n",
       "      <th>Owner</th>\n",
       "      <th>Name</th>\n",
       "      <th>URL</th>\n",
       "      <th>Date</th>\n",
       "    </tr>\n",
       "  </thead>\n",
       "  <tbody>\n",
       "    <tr>\n",
       "      <th>0</th>\n",
       "      <td>JonathanBechtel</td>\n",
       "      <td>bitcoin</td>\n",
       "      <td>https://github.com/JonathanBechtel/bitcoin</td>\n",
       "      <td>2020-05-02T19:57:48Z</td>\n",
       "    </tr>\n",
       "    <tr>\n",
       "      <th>1</th>\n",
       "      <td>JonathanBechtel</td>\n",
       "      <td>cdc-dashboard</td>\n",
       "      <td>https://github.com/JonathanBechtel/cdc-dashboard</td>\n",
       "      <td>2016-11-02T14:39:37Z</td>\n",
       "    </tr>\n",
       "    <tr>\n",
       "      <th>2</th>\n",
       "      <td>JonathanBechtel</td>\n",
       "      <td>covid-19</td>\n",
       "      <td>https://github.com/JonathanBechtel/covid-19</td>\n",
       "      <td>2020-05-01T14:46:48Z</td>\n",
       "    </tr>\n",
       "    <tr>\n",
       "      <th>3</th>\n",
       "      <td>JonathanBechtel</td>\n",
       "      <td>DAT-01-21</td>\n",
       "      <td>https://github.com/JonathanBechtel/DAT-01-21</td>\n",
       "      <td>2020-01-21T12:57:43Z</td>\n",
       "    </tr>\n",
       "    <tr>\n",
       "      <th>4</th>\n",
       "      <td>JonathanBechtel</td>\n",
       "      <td>DAT-06-24</td>\n",
       "      <td>https://github.com/JonathanBechtel/DAT-06-24</td>\n",
       "      <td>2019-06-26T15:12:49Z</td>\n",
       "    </tr>\n",
       "  </tbody>\n",
       "</table>\n",
       "</div>"
      ],
      "text/plain": [
       "             Owner           Name  \\\n",
       "0  JonathanBechtel        bitcoin   \n",
       "1  JonathanBechtel  cdc-dashboard   \n",
       "2  JonathanBechtel       covid-19   \n",
       "3  JonathanBechtel      DAT-01-21   \n",
       "4  JonathanBechtel      DAT-06-24   \n",
       "\n",
       "                                                URL                  Date  \n",
       "0        https://github.com/JonathanBechtel/bitcoin  2020-05-02T19:57:48Z  \n",
       "1  https://github.com/JonathanBechtel/cdc-dashboard  2016-11-02T14:39:37Z  \n",
       "2       https://github.com/JonathanBechtel/covid-19  2020-05-01T14:46:48Z  \n",
       "3      https://github.com/JonathanBechtel/DAT-01-21  2020-01-21T12:57:43Z  \n",
       "4      https://github.com/JonathanBechtel/DAT-06-24  2019-06-26T15:12:49Z  "
      ]
     },
     "execution_count": 68,
     "metadata": {},
     "output_type": "execute_result"
    }
   ],
   "source": [
    "df.head()"
   ]
  },
  {
   "cell_type": "code",
   "execution_count": null,
   "metadata": {},
   "outputs": [],
   "source": []
  }
 ],
 "metadata": {
  "kernelspec": {
   "display_name": "Python 3",
   "language": "python",
   "name": "python3"
  },
  "language_info": {
   "codemirror_mode": {
    "name": "ipython",
    "version": 3
   },
   "file_extension": ".py",
   "mimetype": "text/x-python",
   "name": "python",
   "nbconvert_exporter": "python",
   "pygments_lexer": "ipython3",
   "version": "3.8.3"
  }
 },
 "nbformat": 4,
 "nbformat_minor": 2
}
